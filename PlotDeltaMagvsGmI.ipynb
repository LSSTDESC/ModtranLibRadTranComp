{
 "cells": [
  {
   "cell_type": "markdown",
   "metadata": {},
   "source": [
    "# Plot delta Mag vs G - I\n",
    "\n",
    "\n",
    "- author : Sylvie Dagoret\n",
    "- affiliation : LAL/IN2P3/CNRS\n",
    "- creation date : October 15th 2018\n",
    "- update : October 22th 2018"
   ]
  },
  {
   "cell_type": "code",
   "execution_count": 159,
   "metadata": {},
   "outputs": [],
   "source": [
    "import pandas as pd\n",
    "import numpy as np\n",
    "import os,sys\n",
    "from os import listdir\n",
    "from os.path import isfile, join\n",
    "import matplotlib.pyplot as plt\n",
    "from astropy.io import fits\n",
    "%matplotlib inline\n",
    "from scipy.interpolate import interp1d"
   ]
  },
  {
   "cell_type": "code",
   "execution_count": 160,
   "metadata": {},
   "outputs": [],
   "source": [
    "import os\n",
    "import re"
   ]
  },
  {
   "cell_type": "code",
   "execution_count": 161,
   "metadata": {},
   "outputs": [],
   "source": [
    "from astropy.io import fits"
   ]
  },
  {
   "cell_type": "code",
   "execution_count": 162,
   "metadata": {},
   "outputs": [
    {
     "name": "stdout",
     "output_type": "stream",
     "text": [
      "The autoreload extension is already loaded. To reload it, use:\n",
      "  %reload_ext autoreload\n"
     ]
    }
   ],
   "source": [
    "%load_ext autoreload\n",
    "%autoreload 2"
   ]
  },
  {
   "cell_type": "code",
   "execution_count": 163,
   "metadata": {},
   "outputs": [],
   "source": [
    "import matplotlib.colors as colors\n",
    "import matplotlib.cm as cmx"
   ]
  },
  {
   "cell_type": "code",
   "execution_count": 164,
   "metadata": {},
   "outputs": [],
   "source": [
    "# to enlarge the sizes\n",
    "params = {'legend.fontsize': 'x-large',\n",
    "          'figure.figsize': (14, 10),\n",
    "         'axes.labelsize': 'x-large',\n",
    "         'axes.titlesize':'x-large',\n",
    "         'xtick.labelsize':'x-large',\n",
    "         'ytick.labelsize':'x-large'}\n",
    "plt.rcParams.update(params)"
   ]
  },
  {
   "cell_type": "code",
   "execution_count": 165,
   "metadata": {},
   "outputs": [],
   "source": [
    "path='.'\n",
    "txt_files = [f for f in os.listdir(path) if f.endswith('.txt')]  "
   ]
  },
  {
   "cell_type": "code",
   "execution_count": 166,
   "metadata": {},
   "outputs": [
    {
     "data": {
      "text/plain": [
       "['dataout_DeltaRvsGmI_z14.txt',\n",
       " 'dataout_DeltaYvsGmI_z12.txt',\n",
       " 'dataout_DeltaYvsGmI_z20.txt',\n",
       " 'dataout_DeltaYvsGmI_z10.txt',\n",
       " 'dataout_DeltaYvsGmI_z16.txt',\n",
       " 'dataout_DeltaRvsGmI_z20.txt',\n",
       " 'dataout_DeltaRvsGmI_z10.txt',\n",
       " 'dataout_DeltaYvsGmI_z14.txt',\n",
       " 'dataout_DeltaYvsGmI_z18.txt',\n",
       " 'dataout_DeltaRvsGmI_z18.txt',\n",
       " 'dataout_DeltaRvsGmI_z16.txt',\n",
       " 'dataout_DeltaRvsGmI_z12.txt']"
      ]
     },
     "execution_count": 166,
     "metadata": {},
     "output_type": "execute_result"
    }
   ],
   "source": [
    "txt_files"
   ]
  },
  {
   "cell_type": "markdown",
   "metadata": {},
   "source": [
    "# Definitions"
   ]
  },
  {
   "cell_type": "code",
   "execution_count": 167,
   "metadata": {},
   "outputs": [],
   "source": [
    "#keysel_filename='^dataout_DeltaYvsGmI_z*'\n",
    "#keysel2_filename='^dataout_DeltaYvsGmI_z([0-9]+)*'"
   ]
  },
  {
   "cell_type": "code",
   "execution_count": 168,
   "metadata": {},
   "outputs": [],
   "source": [
    "#title=\"$\\Delta Y$ vs G-I (pwv-optimized at each airmass)\"\n",
    "#xlabel=\"color : G-I\"\n",
    "#ylabel=\"$\\Delta Y$\"\n",
    "#YMIN,YMAX=-0.010,0.010\n",
    "#figfilename=\"FigDeltaYvsCol.png\""
   ]
  },
  {
   "cell_type": "code",
   "execution_count": 169,
   "metadata": {},
   "outputs": [],
   "source": [
    "#keysel_filename='^dataout_DeltaRvsGmI_z*'\n",
    "#keysel2_filename='^dataout_DeltaRvsGmI_z([0-9]+)*'"
   ]
  },
  {
   "cell_type": "code",
   "execution_count": 170,
   "metadata": {},
   "outputs": [],
   "source": [
    "#title=\"$\\Delta R$ vs G-I (ozone-optimized at each airmass)\"\n",
    "#xlabel=\"color : G-I\"\n",
    "#ylabel=\"$\\Delta R$\"\n",
    "#YMIN,YMAX=-0.005,0.005\n",
    "#figfilename=\"FigDeltaRvsCol.png\""
   ]
  },
  {
   "cell_type": "code",
   "execution_count": null,
   "metadata": {},
   "outputs": [],
   "source": [
    "keysel_filename='^dataout_DeltaIvsGmI_z*'\n",
    "keysel2_filename='^dataout_DeltaIvsGmI_z([0-9]+)*'"
   ]
  },
  {
   "cell_type": "code",
   "execution_count": null,
   "metadata": {},
   "outputs": [],
   "source": [
    "title=\"$\\Delta I$ vs G-I (airmass-optimized in I at each airmass)\"\n",
    "xlabel=\"color : G-I\"\n",
    "ylabel=\"$\\Delta I$\"\n",
    "YMIN,YMAX=-0.005,0.005\n",
    "figfilename=\"FigDeltaIvsCol.png\""
   ]
  },
  {
   "cell_type": "code",
   "execution_count": 171,
   "metadata": {},
   "outputs": [],
   "source": [
    "sel_files = []\n",
    "for file in txt_files:\n",
    "    if re.findall(keysel_filename,file):\n",
    "        sel_files.append(file)\n",
    "\n",
    "sel_files=np.array(sel_files)"
   ]
  },
  {
   "cell_type": "code",
   "execution_count": 172,
   "metadata": {},
   "outputs": [],
   "source": [
    "sel_files.sort()"
   ]
  },
  {
   "cell_type": "code",
   "execution_count": 173,
   "metadata": {},
   "outputs": [
    {
     "data": {
      "text/plain": [
       "array(['dataout_DeltaRvsGmI_z10.txt', 'dataout_DeltaRvsGmI_z12.txt',\n",
       "       'dataout_DeltaRvsGmI_z14.txt', 'dataout_DeltaRvsGmI_z16.txt',\n",
       "       'dataout_DeltaRvsGmI_z18.txt', 'dataout_DeltaRvsGmI_z20.txt'],\n",
       "      dtype='<U27')"
      ]
     },
     "execution_count": 173,
     "metadata": {},
     "output_type": "execute_result"
    }
   ],
   "source": [
    "sel_files"
   ]
  },
  {
   "cell_type": "code",
   "execution_count": 174,
   "metadata": {},
   "outputs": [],
   "source": [
    "NBFILES=len(sel_files)"
   ]
  },
  {
   "cell_type": "code",
   "execution_count": 175,
   "metadata": {},
   "outputs": [],
   "source": [
    "all_am=[]\n",
    "for file in sel_files:\n",
    "    am_str=re.findall(keysel2_filename,file)[0]\n",
    "    am=float(am_str)/10.\n",
    "    all_am.append(am)"
   ]
  },
  {
   "cell_type": "code",
   "execution_count": 176,
   "metadata": {},
   "outputs": [],
   "source": [
    "all_am=np.array(all_am)"
   ]
  },
  {
   "cell_type": "code",
   "execution_count": 177,
   "metadata": {},
   "outputs": [
    {
     "data": {
      "text/plain": [
       "array([ 1. ,  1.2,  1.4,  1.6,  1.8,  2. ])"
      ]
     },
     "execution_count": 177,
     "metadata": {},
     "output_type": "execute_result"
    }
   ],
   "source": [
    "all_am"
   ]
  },
  {
   "cell_type": "code",
   "execution_count": 178,
   "metadata": {},
   "outputs": [],
   "source": [
    "jet = cm = plt.get_cmap('jet')\n",
    "cNorm  = colors.Normalize(vmin=0, vmax=NBFILES)\n",
    "scalarMap = cmx.ScalarMappable(norm=cNorm, cmap=jet)"
   ]
  },
  {
   "cell_type": "code",
   "execution_count": 179,
   "metadata": {},
   "outputs": [
    {
     "data": {
      "image/png": "[encoded data removed]",
      "text/plain": [
       "<matplotlib.figure.Figure at 0x7effe4038400>"
      ]
     },
     "metadata": {},
     "output_type": "display_data"
    }
   ],
   "source": [
    "for idx in np.arange(NBFILES):    \n",
    "    colorVal = scalarMap.to_rgba(idx)\n",
    "    thelabel=\"z={:2.1f}\".format(all_am[idx])\n",
    "    data=np.loadtxt(os.path.join(path,sel_files[idx]))\n",
    "    color=data[:,0]\n",
    "    mag=data[:,1]\n",
    "    err=data[:,2]\n",
    "    #plt.plot(color,mag,'-',color=colorVal)\n",
    "    plt.errorbar(color,mag, yerr=err, fmt='o',color=colorVal,ecolor='grey', label=thelabel) \n",
    "plt.grid(True)\n",
    "plt.title(title)\n",
    "plt.xlabel(xlabel)\n",
    "plt.ylabel(ylabel)\n",
    "plt.legend(loc='best')\n",
    "#plt.ylim(YMIN,YMAX)\n",
    "plt.savefig(figfilename)"
   ]
  },
  {
   "cell_type": "code",
   "execution_count": 180,
   "metadata": {},
   "outputs": [
    {
     "data": {
      "image/png": "[encoded data removed]",
      "text/plain": [
       "<matplotlib.figure.Figure at 0x7effdf13d320>"
      ]
     },
     "metadata": {},
     "output_type": "display_data"
    }
   ],
   "source": [
    "for idx in np.arange(NBFILES):    \n",
    "    colorVal = scalarMap.to_rgba(idx)\n",
    "    thelabel=\"z={:2.1f}\".format(all_am[idx])\n",
    "    data=np.loadtxt(os.path.join(path,sel_files[idx]))\n",
    "    color=data[:,0]\n",
    "    mag=data[:,1]\n",
    "    err=data[:,2]\n",
    "    plt.plot(color,mag,'o',color=colorVal,label=thelabel)\n",
    "    #plt.errorbar(color,mag, yerr=err, fmt='o',color=colorVal,ecolor='grey', label=thelabel) \n",
    "plt.grid(True)\n",
    "plt.title(title)\n",
    "plt.xlabel(xlabel)\n",
    "plt.ylabel(ylabel)\n",
    "plt.legend(loc='best')\n",
    "plt.ylim(YMIN,YMAX)\n",
    "plt.savefig(figfilename)"
   ]
  },
  {
   "cell_type": "code",
   "execution_count": null,
   "metadata": {},
   "outputs": [],
   "source": []
  }
 ],
 "metadata": {
  "kernelspec": {
   "display_name": "Python 3",
   "language": "python",
   "name": "python3"
  },
  "language_info": {
   "codemirror_mode": {
    "name": "ipython",
    "version": 3
   },
   "file_extension": ".py",
   "mimetype": "text/x-python",
   "name": "python",
   "nbconvert_exporter": "python",
   "pygments_lexer": "ipython3",
   "version": "3.6.6"
  }
 },
 "nbformat": 4,
 "nbformat_minor": 2
}
