{
 "cells": [
  {
   "cell_type": "markdown",
   "metadata": {},
   "source": [
    "# Plot delta Mag vs G - I\n",
    "\n",
    "\n",
    "- author : Sylvie Dagoret\n",
    "- affiliation : LAL/IN2P3/CNRS\n",
    "- creation date : October 15th 2018\n",
    "- update : October 22th 2018"
   ]
  },
  {
   "cell_type": "code",
   "execution_count": 342,
   "metadata": {},
   "outputs": [],
   "source": [
    "import pandas as pd\n",
    "import numpy as np\n",
    "import os,sys\n",
    "from os import listdir\n",
    "from os.path import isfile, join\n",
    "import matplotlib.pyplot as plt\n",
    "from astropy.io import fits\n",
    "%matplotlib inline\n",
    "from scipy.interpolate import interp1d"
   ]
  },
  {
   "cell_type": "code",
   "execution_count": 343,
   "metadata": {},
   "outputs": [],
   "source": [
    "import os\n",
    "import re"
   ]
  },
  {
   "cell_type": "code",
   "execution_count": 344,
   "metadata": {},
   "outputs": [],
   "source": [
    "from astropy.io import fits"
   ]
  },
  {
   "cell_type": "code",
   "execution_count": 345,
   "metadata": {},
   "outputs": [
    {
     "name": "stdout",
     "output_type": "stream",
     "text": [
      "The autoreload extension is already loaded. To reload it, use:\n",
      "  %reload_ext autoreload\n"
     ]
    }
   ],
   "source": [
    "%load_ext autoreload\n",
    "%autoreload 2"
   ]
  },
  {
   "cell_type": "code",
   "execution_count": 346,
   "metadata": {},
   "outputs": [],
   "source": [
    "import matplotlib.colors as colors\n",
    "import matplotlib.cm as cmx"
   ]
  },
  {
   "cell_type": "code",
   "execution_count": 347,
   "metadata": {},
   "outputs": [],
   "source": [
    "# to enlarge the sizes\n",
    "params = {'legend.fontsize': 'x-large',\n",
    "          'figure.figsize': (14, 10),\n",
    "         'axes.labelsize': 'x-large',\n",
    "         'axes.titlesize':'x-large',\n",
    "         'xtick.labelsize':'x-large',\n",
    "         'ytick.labelsize':'x-large'}\n",
    "plt.rcParams.update(params)"
   ]
  },
  {
   "cell_type": "code",
   "execution_count": 348,
   "metadata": {},
   "outputs": [],
   "source": [
    "path='.'\n",
    "txt_files = [f for f in os.listdir(path) if f.endswith('.txt')]  "
   ]
  },
  {
   "cell_type": "code",
   "execution_count": 349,
   "metadata": {},
   "outputs": [
    {
     "data": {
      "text/plain": [
       "['dataout_DeltaGvsGmI_z16.txt',\n",
       " 'dataout_DeltaYvsImZ_z14.txt',\n",
       " 'dataout_DeltaRvsGmI_z14.txt',\n",
       " 'dataout_DeltaYvsGmI_z12.txt',\n",
       " 'dataout_DeltaYvsImZ_z18.txt',\n",
       " 'dataout_DeltaYvsGmI_z20.txt',\n",
       " 'dataout_DeltaGvsGmI_z14.txt',\n",
       " 'dataout_DeltaR2vsGmI_z10.txt',\n",
       " 'dataout_DeltaGvsGmI_z12.txt',\n",
       " 'dataout_DeltaR2vsGmI_z20.txt',\n",
       " 'dataout_DeltaYvsGmI_z10.txt',\n",
       " 'dataout_DeltaYvsGmI_z16.txt',\n",
       " 'dataout_DeltaRvsGmI_z20.txt',\n",
       " 'dataout_DeltaIvsGmI_z20.txt',\n",
       " 'dataout_DeltaR2vsGmI_z18.txt',\n",
       " 'dataout_DeltaGvsGmI_z20.txt',\n",
       " 'dataout_DeltaYvsImZ_z12.txt',\n",
       " 'dataout_DeltaIvsGmI_z12.txt',\n",
       " 'dataout_DeltaGvsGmI_z10.txt',\n",
       " 'dataout_DeltaR2vsGmI_z14.txt',\n",
       " 'dataout_DeltaGvsGmI_z18.txt',\n",
       " 'dataout_DeltaIvsGmI_z18.txt',\n",
       " 'dataout_DeltaRvsGmI_z10.txt',\n",
       " 'dataout_DeltaR2vsGmI_z12.txt',\n",
       " 'dataout_DeltaIvsGmI_z14.txt',\n",
       " 'dataout_DeltaR2vsGmI_z16.txt',\n",
       " 'dataout_DeltaYvsImZ_z16.txt',\n",
       " 'dataout_DeltaYvsGmI_z14.txt',\n",
       " 'dataout_DeltaYvsImZ_z10.txt',\n",
       " 'dataout_DeltaYvsGmI_z18.txt',\n",
       " 'dataout_DeltaIvsGmI_z16.txt',\n",
       " 'dataout_DeltaIvsGmI_z10.txt',\n",
       " 'dataout_DeltaRvsGmI_z18.txt',\n",
       " 'dataout_DeltaYvsImZ_z20.txt',\n",
       " 'dataout_DeltaRvsGmI_z16.txt',\n",
       " 'dataout_DeltaRvsGmI_z12.txt']"
      ]
     },
     "execution_count": 349,
     "metadata": {},
     "output_type": "execute_result"
    }
   ],
   "source": [
    "txt_files"
   ]
  },
  {
   "cell_type": "markdown",
   "metadata": {},
   "source": [
    "# Definitions"
   ]
  },
  {
   "cell_type": "markdown",
   "metadata": {},
   "source": [
    "### Delta Y vs G-I"
   ]
  },
  {
   "cell_type": "code",
   "execution_count": 350,
   "metadata": {},
   "outputs": [],
   "source": [
    "#keysel_filename='^dataout_DeltaYvsGmI_z*'\n",
    "#keysel2_filename='^dataout_DeltaYvsGmI_z([0-9]+)*'"
   ]
  },
  {
   "cell_type": "code",
   "execution_count": 351,
   "metadata": {},
   "outputs": [],
   "source": [
    "#title=\"$\\Delta Y$ vs G-I (pwv-optimized at each airmass)\"\n",
    "#xlabel=\"color : G-I (mag)\"\n",
    "#ylabel=\"$\\Delta Y$ (mag)\"\n",
    "#YMIN,YMAX=-0.010,0.010\n",
    "#figfilename=\"FigDeltaYvsCol.png\""
   ]
  },
  {
   "cell_type": "markdown",
   "metadata": {},
   "source": [
    "### Delta Y vs I-Z"
   ]
  },
  {
   "cell_type": "code",
   "execution_count": 352,
   "metadata": {},
   "outputs": [],
   "source": [
    "#keysel_filename='^dataout_DeltaYvsImZ_z*'\n",
    "#keysel2_filename='^dataout_DeltaYvsImZ_z([0-9]+)*'"
   ]
  },
  {
   "cell_type": "code",
   "execution_count": 353,
   "metadata": {},
   "outputs": [],
   "source": [
    "#title=\"$\\Delta Y$ vs I-Z (pwv-optimized at each airmass)\"\n",
    "#xlabel=\"color : I-Z (mag)\"\n",
    "#ylabel=\"$\\Delta Y$ (mag)\"\n",
    "#YMIN,YMAX=-0.010,0.010\n",
    "#figfilename=\"FigDeltaYvsCol2.png\""
   ]
  },
  {
   "cell_type": "markdown",
   "metadata": {},
   "source": [
    "### Delta R vs G-I"
   ]
  },
  {
   "cell_type": "code",
   "execution_count": 354,
   "metadata": {},
   "outputs": [],
   "source": [
    "#keysel_filename='^dataout_DeltaRvsGmI_z*'\n",
    "#keysel2_filename='^dataout_DeltaRvsGmI_z([0-9]+)*'"
   ]
  },
  {
   "cell_type": "code",
   "execution_count": 355,
   "metadata": {},
   "outputs": [],
   "source": [
    "#title=\"$\\Delta R$ vs G-I (ozone-optimized at each airmass)\"\n",
    "#xlabel=\"color : G-I (mag)\"\n",
    "#ylabel=\"$\\Delta R$ (mag)\"\n",
    "#YMIN,YMAX=-0.005,0.005\n",
    "#figfilename=\"FigDeltaRvsCol.png\""
   ]
  },
  {
   "cell_type": "code",
   "execution_count": null,
   "metadata": {},
   "outputs": [],
   "source": []
  },
  {
   "cell_type": "markdown",
   "metadata": {},
   "source": [
    "## Delta I vs G-I"
   ]
  },
  {
   "cell_type": "code",
   "execution_count": 356,
   "metadata": {},
   "outputs": [],
   "source": [
    "#keysel_filename='^dataout_DeltaIvsGmI_z*'\n",
    "#keysel2_filename='^dataout_DeltaIvsGmI_z([0-9]+)*'"
   ]
  },
  {
   "cell_type": "code",
   "execution_count": 357,
   "metadata": {},
   "outputs": [],
   "source": [
    "#title=\"$\\Delta I$ vs G-I (airmass-optimized in I at each airmass)\"\n",
    "#xlabel=\"color : G-I (mag)\"\n",
    "#ylabel=\"$\\Delta I (mag)$\"\n",
    "#YMIN,YMAX=-0.0075,0.0075\n",
    "#figfilename=\"FigDeltaIvsCol.png\""
   ]
  },
  {
   "cell_type": "markdown",
   "metadata": {},
   "source": [
    "## Delta G vs G-I"
   ]
  },
  {
   "cell_type": "code",
   "execution_count": 358,
   "metadata": {},
   "outputs": [],
   "source": [
    "#keysel_filename='^dataout_DeltaGvsGmI_z*'\n",
    "#keysel2_filename='^dataout_DeltaGvsGmI_z([0-9]+)*'"
   ]
  },
  {
   "cell_type": "code",
   "execution_count": 359,
   "metadata": {},
   "outputs": [],
   "source": [
    "#title=\"$\\Delta G$ vs G-I (airmass-optimized in I at each airmass)\"\n",
    "#xlabel=\"color : G-I (mag)\"\n",
    "#ylabel=\"$\\Delta G (mag)$\"\n",
    "#YMIN,YMAX=-0.0075,0.0075\n",
    "#figfilename=\"FigDeltaGvsCol.png\""
   ]
  },
  {
   "cell_type": "markdown",
   "metadata": {},
   "source": [
    "## Delta R2 vs G-I"
   ]
  },
  {
   "cell_type": "code",
   "execution_count": 360,
   "metadata": {},
   "outputs": [],
   "source": [
    "keysel_filename='^dataout_DeltaR2vsGmI_z*'\n",
    "keysel2_filename='^dataout_DeltaR2vsGmI_z([0-9]+)*'"
   ]
  },
  {
   "cell_type": "code",
   "execution_count": 361,
   "metadata": {},
   "outputs": [],
   "source": [
    "title=\"$\\Delta R$ vs G-I (airmass-optimized in I at each airmass)\"\n",
    "xlabel=\"color : G-I (mag)\"\n",
    "ylabel=\"$\\Delta R (mag)$\"\n",
    "YMIN,YMAX=-0.0075,0.0075\n",
    "figfilename=\"FigDeltaR2vsCol.png\""
   ]
  },
  {
   "cell_type": "markdown",
   "metadata": {},
   "source": [
    "# START"
   ]
  },
  {
   "cell_type": "code",
   "execution_count": 362,
   "metadata": {},
   "outputs": [],
   "source": [
    "sel_files = []\n",
    "for file in txt_files:\n",
    "    if re.findall(keysel_filename,file):\n",
    "        sel_files.append(file)\n",
    "\n",
    "sel_files=np.array(sel_files)"
   ]
  },
  {
   "cell_type": "code",
   "execution_count": 363,
   "metadata": {},
   "outputs": [],
   "source": [
    "sel_files.sort()"
   ]
  },
  {
   "cell_type": "code",
   "execution_count": 364,
   "metadata": {},
   "outputs": [
    {
     "data": {
      "text/plain": [
       "array(['dataout_DeltaR2vsGmI_z10.txt', 'dataout_DeltaR2vsGmI_z12.txt',\n",
       "       'dataout_DeltaR2vsGmI_z14.txt', 'dataout_DeltaR2vsGmI_z16.txt',\n",
       "       'dataout_DeltaR2vsGmI_z18.txt', 'dataout_DeltaR2vsGmI_z20.txt'],\n",
       "      dtype='<U28')"
      ]
     },
     "execution_count": 364,
     "metadata": {},
     "output_type": "execute_result"
    }
   ],
   "source": [
    "sel_files"
   ]
  },
  {
   "cell_type": "code",
   "execution_count": 365,
   "metadata": {},
   "outputs": [],
   "source": [
    "NBFILES=len(sel_files)"
   ]
  },
  {
   "cell_type": "code",
   "execution_count": 366,
   "metadata": {},
   "outputs": [],
   "source": [
    "all_am=[]\n",
    "for file in sel_files:\n",
    "    am_str=re.findall(keysel2_filename,file)[0]\n",
    "    am=float(am_str)/10.\n",
    "    all_am.append(am)"
   ]
  },
  {
   "cell_type": "code",
   "execution_count": 367,
   "metadata": {},
   "outputs": [],
   "source": [
    "all_am=np.array(all_am)"
   ]
  },
  {
   "cell_type": "code",
   "execution_count": 368,
   "metadata": {},
   "outputs": [
    {
     "data": {
      "text/plain": [
       "array([1. , 1.2, 1.4, 1.6, 1.8, 2. ])"
      ]
     },
     "execution_count": 368,
     "metadata": {},
     "output_type": "execute_result"
    }
   ],
   "source": [
    "all_am"
   ]
  },
  {
   "cell_type": "code",
   "execution_count": 369,
   "metadata": {},
   "outputs": [],
   "source": [
    "jet = cm = plt.get_cmap('jet')\n",
    "cNorm  = colors.Normalize(vmin=0, vmax=NBFILES)\n",
    "scalarMap = cmx.ScalarMappable(norm=cNorm, cmap=jet)"
   ]
  },
  {
   "cell_type": "code",
   "execution_count": 370,
   "metadata": {},
   "outputs": [
    {
     "data": {
      "image/png": "[encoded data removed]",
      "text/plain": [
       "<Figure size 1008x720 with 1 Axes>"
      ]
     },
     "metadata": {
      "needs_background": "light"
     },
     "output_type": "display_data"
    }
   ],
   "source": [
    "colormin=[]\n",
    "colormax=[]\n",
    "\n",
    "for idx in np.arange(NBFILES):    \n",
    "    colorVal = scalarMap.to_rgba(idx)\n",
    "    thelabel=\"z={:2.1f}\".format(all_am[idx])\n",
    "    data=np.loadtxt(os.path.join(path,sel_files[idx]))\n",
    "    color=data[:,0]\n",
    "    colormin.append(color.min())\n",
    "    colormax.append(color.max())\n",
    "    mag=data[:,1]\n",
    "    err=data[:,2]\n",
    "    #plt.plot(color,mag,'-',color=colorVal)\n",
    "    plt.errorbar(color,mag, yerr=err, fmt='o',color=colorVal,ecolor='grey', label=thelabel) \n",
    "\n",
    "COLORMIN=np.min(np.array(colormin))   \n",
    "COLORMAX=np.max(np.array(colormax))   \n",
    "\n",
    "plt.plot([COLORMIN,COLORMAX],[0.001,0.001],\"r:\")\n",
    "plt.plot([COLORMIN,COLORMAX],[-0.001,-0.001],\"r:\")    \n",
    "plt.grid(True)\n",
    "plt.title(title)\n",
    "plt.xlabel(xlabel)\n",
    "plt.ylabel(ylabel)\n",
    "plt.legend(loc='best')\n",
    "#plt.ylim(YMIN,YMAX)\n",
    "plt.savefig(figfilename)"
   ]
  },
  {
   "cell_type": "code",
   "execution_count": 371,
   "metadata": {},
   "outputs": [
    {
     "data": {
      "image/png": "[encoded data removed]",
      "text/plain": [
       "<Figure size 1008x720 with 1 Axes>"
      ]
     },
     "metadata": {
      "needs_background": "light"
     },
     "output_type": "display_data"
    }
   ],
   "source": [
    "colormin=[]\n",
    "colormax=[]\n",
    "\n",
    "for idx in np.arange(NBFILES):    \n",
    "    colorVal = scalarMap.to_rgba(idx)\n",
    "    thelabel=\"z={:2.1f}\".format(all_am[idx])\n",
    "    data=np.loadtxt(os.path.join(path,sel_files[idx]))\n",
    "    color=data[:,0]\n",
    "    \n",
    "    colormin.append(color.min())\n",
    "    colormax.append(color.max())\n",
    "    \n",
    "    mag=data[:,1]\n",
    "    err=data[:,2]\n",
    "    plt.plot(color,mag,'o',color=colorVal,label=thelabel)\n",
    "    #plt.errorbar(color,mag, yerr=err, fmt='o',color=colorVal,ecolor='grey', label=thelabel) \n",
    "    \n",
    "COLORMIN=np.min(np.array(colormin))   \n",
    "COLORMAX=np.max(np.array(colormax))   \n",
    "\n",
    "plt.plot([COLORMIN,COLORMAX],[0.001,0.001],\"r:\")\n",
    "plt.plot([COLORMIN,COLORMAX],[-0.001,-0.001],\"r:\")\n",
    "\n",
    "plt.grid(True)\n",
    "plt.title(title)\n",
    "plt.xlabel(xlabel)\n",
    "plt.ylabel(ylabel)\n",
    "plt.legend(loc='best')\n",
    "#plt.ylim(YMIN,YMAX)\n",
    "plt.savefig(figfilename)"
   ]
  },
  {
   "cell_type": "code",
   "execution_count": 372,
   "metadata": {},
   "outputs": [
    {
     "data": {
      "text/plain": [
       "[-0.6178411, -0.59616171, -0.57430398, -0.55230857, -0.5302054, -0.50991555]"
      ]
     },
     "execution_count": 372,
     "metadata": {},
     "output_type": "execute_result"
    }
   ],
   "source": [
    "colormin"
   ]
  },
  {
   "cell_type": "code",
   "execution_count": 373,
   "metadata": {},
   "outputs": [
    {
     "data": {
      "text/plain": [
       "-0.6178411"
      ]
     },
     "execution_count": 373,
     "metadata": {},
     "output_type": "execute_result"
    }
   ],
   "source": [
    "COLORMIN"
   ]
  },
  {
   "cell_type": "code",
   "execution_count": 374,
   "metadata": {},
   "outputs": [
    {
     "data": {
      "text/plain": [
       "2.41120305"
      ]
     },
     "execution_count": 374,
     "metadata": {},
     "output_type": "execute_result"
    }
   ],
   "source": [
    "COLORMAX"
   ]
  },
  {
   "cell_type": "code",
   "execution_count": 375,
   "metadata": {},
   "outputs": [
    {
     "name": "stdout",
     "output_type": "stream",
     "text": [
      "0    [ 0.00044306 -0.00800125]\n",
      "1    [ 0.00045774 -0.00801007]\n",
      "2    [ 0.00047578 -0.00821739]\n",
      "3    [ 0.00049352 -0.00842475]\n",
      "4    [ 0.00050228 -0.00842681]\n",
      "5    [ 0.00048127 -0.00750168]\n",
      "slope = 0.0004756 +/- 2.018e-05 \n"
     ]
    },
    {
     "data": {
      "image/png": "[encoded data removed]",
      "text/plain": [
       "<Figure size 1008x720 with 1 Axes>"
      ]
     },
     "metadata": {
      "needs_background": "light"
     },
     "output_type": "display_data"
    }
   ],
   "source": [
    "colormin=[]\n",
    "colormax=[]\n",
    "slope=[]\n",
    "intercept=[]\n",
    "for idx in np.arange(NBFILES):    \n",
    "    colorVal = scalarMap.to_rgba(idx)\n",
    "    thelabel=\"z={:2.1f}\".format(all_am[idx])\n",
    "    data=np.loadtxt(os.path.join(path,sel_files[idx]))\n",
    "    color=data[:,0]\n",
    "    \n",
    "    colormin.append(color.min())\n",
    "    colormax.append(color.max())\n",
    "    \n",
    "    mag=data[:,1]\n",
    "    err=data[:,2]\n",
    "    plt.plot(color,mag,'o',color=colorVal,label=thelabel)\n",
    "    #plt.errorbar(color,mag, yerr=err, fmt='o',color=colorVal,ecolor='grey', label=thelabel) \n",
    "    X=color\n",
    "    Y=mag\n",
    "    Z = np.polyfit(X, Y,1)\n",
    "    slope.append(Z[0])\n",
    "    intercept.append(Z[1])\n",
    "    print(idx,\"  \",Z)\n",
    "    P = np.poly1d(Z)\n",
    "    plt.plot([color.min(),color.max()],[P(color.min()),P(color.max())],':',color=colorVal)\n",
    "    \n",
    "COLORMIN=np.min(np.array(colormin))   \n",
    "COLORMAX=np.max(np.array(colormax))   \n",
    "\n",
    "plt.plot([COLORMIN,COLORMAX],[0.001,0.001],\"r:\")\n",
    "plt.plot([COLORMIN,COLORMAX],[-0.001,-0.001],\"r:\")\n",
    "\n",
    "plt.grid(True)\n",
    "plt.title(title)\n",
    "plt.xlabel(xlabel)\n",
    "plt.ylabel(ylabel)\n",
    "plt.legend(loc='best')\n",
    "plt.ylim(YMIN,YMAX)\n",
    "plt.savefig(figfilename)\n",
    "\n",
    "slope=np.array(slope)\n",
    "\n",
    "slope_mean=np.average(slope)\n",
    "slope_std=np.std(slope)\n",
    "\n",
    "print(\"slope = {:6.4g} +/- {:6.4g} \".format(slope_mean,slope_std))"
   ]
  },
  {
   "cell_type": "code",
   "execution_count": null,
   "metadata": {},
   "outputs": [],
   "source": []
  }
 ],
 "metadata": {
  "kernelspec": {
   "display_name": "Python 3",
   "language": "python",
   "name": "python3"
  },
  "language_info": {
   "codemirror_mode": {
    "name": "ipython",
    "version": 3
   },
   "file_extension": ".py",
   "mimetype": "text/x-python",
   "name": "python",
   "nbconvert_exporter": "python",
   "pygments_lexer": "ipython3",
   "version": "3.6.6"
  }
 },
 "nbformat": 4,
 "nbformat_minor": 2
}
