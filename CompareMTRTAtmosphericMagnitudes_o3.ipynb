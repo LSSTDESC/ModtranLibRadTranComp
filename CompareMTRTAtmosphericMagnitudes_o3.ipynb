{
 "cells": [
  {
   "cell_type": "markdown",
   "metadata": {},
   "source": [
    "# Compare Modtran/libRadTran Magnitudes\n",
    "\n",
    "- Check O3\n",
    "\n",
    "- author : Sylvie Dagoret\n",
    "- affiliation : LAL/IN2P3/CNRS\n",
    "- creation date : July 11th 2018\n",
    "\n"
   ]
  },
  {
   "cell_type": "code",
   "execution_count": null,
   "metadata": {},
   "outputs": [],
   "source": [
    "import pandas as pd\n",
    "import numpy as np\n",
    "import os,sys\n",
    "from os import listdir\n",
    "from os.path import isfile, join\n",
    "import matplotlib.pyplot as plt\n",
    "from astropy.io import fits\n",
    "%matplotlib inline\n",
    "from scipy.interpolate import interp1d"
   ]
  },
  {
   "cell_type": "code",
   "execution_count": null,
   "metadata": {},
   "outputs": [],
   "source": [
    "from astropy.io import fits"
   ]
  },
  {
   "cell_type": "code",
   "execution_count": null,
   "metadata": {},
   "outputs": [],
   "source": [
    "from lsst.sims.photUtils import SignalToNoise\n",
    "from lsst.sims.photUtils import PhotometricParameters\n",
    "from lsst.sims.photUtils import Bandpass,Sed"
   ]
  },
  {
   "cell_type": "code",
   "execution_count": null,
   "metadata": {},
   "outputs": [],
   "source": [
    "%load_ext autoreload\n",
    "%autoreload 2"
   ]
  },
  {
   "cell_type": "code",
   "execution_count": null,
   "metadata": {},
   "outputs": [],
   "source": [
    "import matplotlib.colors as colors\n",
    "import matplotlib.cm as cmx"
   ]
  },
  {
   "cell_type": "code",
   "execution_count": null,
   "metadata": {},
   "outputs": [],
   "source": [
    "# to enlarge the sizes\n",
    "params = {'legend.fontsize': 'x-large',\n",
    "          'figure.figsize': (14, 8),\n",
    "         'axes.labelsize': 'x-large',\n",
    "         'axes.titlesize':'x-large',\n",
    "         'xtick.labelsize':'x-large',\n",
    "         'ytick.labelsize':'x-large'}\n",
    "plt.rcParams.update(params)"
   ]
  },
  {
   "cell_type": "code",
   "execution_count": null,
   "metadata": {},
   "outputs": [],
   "source": [
    "PATH_LIBRADTRAN='./librandtran'\n",
    "PATH_MODTRAN='./modtran'\n",
    "PATH_MYLSSTSIMS='./lsst_sims'"
   ]
  },
  {
   "cell_type": "code",
   "execution_count": null,
   "metadata": {},
   "outputs": [],
   "source": [
    "sys.path.append(PATH_LIBRADTRAN)\n",
    "sys.path.append(PATH_MODTRAN)\n",
    "sys.path.append(PATH_MYLSSTSIMS)"
   ]
  },
  {
   "cell_type": "code",
   "execution_count": null,
   "metadata": {},
   "outputs": [],
   "source": [
    "import libReadModtran as mt\n",
    "import libsimulateTranspLSSTScattAbsAer3 as rt"
   ]
  },
  {
   "cell_type": "code",
   "execution_count": null,
   "metadata": {},
   "outputs": [],
   "source": [
    "from MyTelescope import *\n",
    "from MyThroughputs import *"
   ]
  },
  {
   "cell_type": "code",
   "execution_count": null,
   "metadata": {},
   "outputs": [],
   "source": [
    "def plot_sedimg(data,index_spec):\n",
    "    plt.figure(figsize=(15,10))   \n",
    "    img=plt.imshow(data[1:,index_spec:],origin='lower',cmap='jet')\n",
    "    plt.colorbar(img)\n",
    "    plt.grid(True)\n",
    "    plt.title('sed grid')\n",
    "    plt.xlabel('bin number of wavelengths')\n",
    "    plt.ylabel('sed number')\n",
    "    plt.show()"
   ]
  },
  {
   "cell_type": "code",
   "execution_count": null,
   "metadata": {},
   "outputs": [],
   "source": [
    "def plot_allsed(data,index_spec):\n",
    "    plt.figure()   \n",
    "    \n",
    "    for idx in np.arange(data.shape[0]-1):\n",
    "      \n",
    "        plt.semilogy(data[0,index_spec:],data[1+idx,index_spec:],'-')\n",
    "    plt.grid(True)\n",
    "    plt.title('sed')\n",
    "    plt.xlabel('wavelength (A)')\n",
    "    plt.ylabel('sed (flam)')\n",
    "    plt.show()"
   ]
  },
  {
   "cell_type": "markdown",
   "metadata": {},
   "source": [
    "# Config"
   ]
  },
  {
   "cell_type": "code",
   "execution_count": null,
   "metadata": {},
   "outputs": [],
   "source": [
    "#------------------------------------------------------------------------\n",
    "# Definition of data format for the atmospheric grid\n",
    "#-----------------------------------------------------------------------------\n",
    "WLMIN=250.  # Minimum wavelength : PySynPhot works with Angstrom\n",
    "WLMAX=1151. # Minimum wavelength : PySynPhot works with Angstrom\n",
    "WL=np.arange(WLMIN,WLMAX,1) # Array of wavelength in Angstrom\n",
    "NBWL=len(WL)\n"
   ]
  },
  {
   "cell_type": "code",
   "execution_count": null,
   "metadata": {},
   "outputs": [],
   "source": [
    "## Config LSST"
   ]
  },
  {
   "cell_type": "code",
   "execution_count": null,
   "metadata": {},
   "outputs": [],
   "source": [
    "all_filternum = {'u':1, 'g':2, 'r':3, 'i':4, 'z':5, 'y':6}"
   ]
  },
  {
   "cell_type": "code",
   "execution_count": null,
   "metadata": {},
   "outputs": [],
   "source": [
    "LSST_SkyBrightness=np.array([22.03,21.68,21.02,19.7,17.83,17.21])"
   ]
  },
  {
   "cell_type": "code",
   "execution_count": null,
   "metadata": {},
   "outputs": [],
   "source": [
    "LSST_GeomSeeing=np.array([1.1,1.02,0.95,0.92,0.88,0.94])"
   ]
  },
  {
   "cell_type": "markdown",
   "metadata": {},
   "source": [
    "# Configuration of input SED"
   ]
  },
  {
   "cell_type": "code",
   "execution_count": null,
   "metadata": {},
   "outputs": [],
   "source": [
    "sed_file=\"regenerated_sedgrid_pickle_uvk.fits\""
   ]
  },
  {
   "cell_type": "code",
   "execution_count": null,
   "metadata": {},
   "outputs": [],
   "source": [
    "sed_hdu = fits.open(sed_file)"
   ]
  },
  {
   "cell_type": "code",
   "execution_count": null,
   "metadata": {},
   "outputs": [],
   "source": [
    "theheader=sed_hdu[0].header\n",
    "theheader"
   ]
  },
  {
   "cell_type": "code",
   "execution_count": null,
   "metadata": {},
   "outputs": [],
   "source": [
    "sidx_num=theheader['IDX_NUM']\n",
    "sidx_val=theheader['IDX_VAL']\n",
    "sidx_sed=theheader['IDX_SED']\n",
    "sidx_data=theheader['IDX_DATA']\n",
    "sidx_spec=theheader['IDX_SPEC']"
   ]
  },
  {
   "cell_type": "code",
   "execution_count": null,
   "metadata": {},
   "outputs": [],
   "source": [
    "sed_data=sed_hdu[0].data"
   ]
  },
  {
   "cell_type": "code",
   "execution_count": null,
   "metadata": {},
   "outputs": [],
   "source": [
    "plot_sedimg(sed_data,sidx_spec)"
   ]
  },
  {
   "cell_type": "code",
   "execution_count": null,
   "metadata": {},
   "outputs": [],
   "source": [
    "#plot_allsed(sed_data,sidx_spec)"
   ]
  },
  {
   "cell_type": "code",
   "execution_count": null,
   "metadata": {},
   "outputs": [],
   "source": [
    "NBSED_MAX=sed_data.shape[0]-1"
   ]
  },
  {
   "cell_type": "code",
   "execution_count": null,
   "metadata": {},
   "outputs": [],
   "source": [
    "NBSED_MAX"
   ]
  },
  {
   "cell_type": "markdown",
   "metadata": {},
   "source": [
    "## Config for Modtran"
   ]
  },
  {
   "cell_type": "code",
   "execution_count": null,
   "metadata": {},
   "outputs": [],
   "source": [
    "path_modtrandata='modtrandata/Jul6th2018'"
   ]
  },
  {
   "cell_type": "code",
   "execution_count": null,
   "metadata": {},
   "outputs": [],
   "source": [
    "def GetModtranFilenames():\n",
    "    files_data = [f for f in listdir(path_modtrandata) if isfile(join(path_modtrandata, f))]\n",
    "    files_data.sort()\n",
    "    \n",
    "    # select reduced files\n",
    "    files_selected=[]\n",
    "    for file in files_data:\n",
    "        if file.find(\"_reduced\")==-1:\n",
    "            print(\"reject \",file)\n",
    "        else:\n",
    "            files_selected.append(file)\n",
    "            \n",
    "    files_selected.sort()\n",
    "    return files_selected\n"
   ]
  },
  {
   "cell_type": "code",
   "execution_count": null,
   "metadata": {},
   "outputs": [],
   "source": [
    "def GetAirmassFromModtranFilename(filename):\n",
    "    splitted_filename=filename.split('.')\n",
    "    tagname=splitted_filename[1]\n",
    "    airmass_str=tagname.split('_')[0]\n",
    "    am=float(airmass_str)/10.\n",
    "    return am\n",
    "    "
   ]
  },
  {
   "cell_type": "code",
   "execution_count": null,
   "metadata": {},
   "outputs": [],
   "source": [
    "files_modtran=GetModtranFilenames()"
   ]
  },
  {
   "cell_type": "code",
   "execution_count": null,
   "metadata": {},
   "outputs": [],
   "source": [
    "NBMTFILES=len(files_modtran)-1"
   ]
  },
  {
   "cell_type": "markdown",
   "metadata": {},
   "source": [
    "### Get all all available Modtran Airmasss"
   ]
  },
  {
   "cell_type": "code",
   "execution_count": null,
   "metadata": {},
   "outputs": [],
   "source": [
    "all_airmasses=[GetAirmassFromModtranFilename(files_modtran[idx]) for idx in np.arange(NBMTFILES) ]"
   ]
  },
  {
   "cell_type": "code",
   "execution_count": null,
   "metadata": {},
   "outputs": [],
   "source": [
    "all_airmasses"
   ]
  },
  {
   "cell_type": "markdown",
   "metadata": {},
   "source": [
    "### Read all Modtran Data"
   ]
  },
  {
   "cell_type": "code",
   "execution_count": null,
   "metadata": {},
   "outputs": [],
   "source": [
    "all_mtdata=[]\n",
    "for file in files_modtran:\n",
    "    fullfilename=os.path.join(path_modtrandata,file)\n",
    "    read_modtrandata=mt.loadtape7(fullfilename, colspec = ['WAVELENGTH_NM','COMBIN_TRANS'])\n",
    "    all_mtdata.append(read_modtrandata)"
   ]
  },
  {
   "cell_type": "markdown",
   "metadata": {},
   "source": [
    "### View all Modtran Data"
   ]
  },
  {
   "cell_type": "code",
   "execution_count": null,
   "metadata": {},
   "outputs": [],
   "source": [
    "jet = cm = plt.get_cmap('jet')\n",
    "cNorm  = colors.Normalize(vmin=0, vmax=NBMTFILES)\n",
    "scalarMap = cmx.ScalarMappable(norm=cNorm, cmap=jet)"
   ]
  },
  {
   "cell_type": "code",
   "execution_count": null,
   "metadata": {},
   "outputs": [],
   "source": [
    "for idx in np.arange(NBMTFILES):    \n",
    "    colorVal = scalarMap.to_rgba(idx)\n",
    "    thelabel=\"z={:2.1f}\".format(all_airmasses[idx])\n",
    "    plt.plot(all_mtdata[idx][:,0],all_mtdata[idx][:,1],color=colorVal,label=thelabel)\n",
    "plt.grid(True)\n",
    "plt.title(\"MODTRAN 07/06/2018\")\n",
    "plt.xlabel(\"$\\lambda$ (nm)\")\n",
    "plt.ylabel(\"atmospheric transparency\")\n",
    "plt.legend(loc='best')"
   ]
  },
  {
   "cell_type": "code",
   "execution_count": null,
   "metadata": {},
   "outputs": [],
   "source": [
    "all_airmasses"
   ]
  },
  {
   "cell_type": "markdown",
   "metadata": {},
   "source": [
    "# Select One Airmass and One Filter where to do the Comparison"
   ]
  },
  {
   "cell_type": "code",
   "execution_count": null,
   "metadata": {},
   "outputs": [],
   "source": [
    "idx_am_sel=9"
   ]
  },
  {
   "cell_type": "code",
   "execution_count": null,
   "metadata": {},
   "outputs": [],
   "source": [
    "am=all_airmasses[idx_am_sel]"
   ]
  },
  {
   "cell_type": "code",
   "execution_count": null,
   "metadata": {},
   "outputs": [],
   "source": [
    "mtdata_sel=all_mtdata[idx_am_sel]"
   ]
  },
  {
   "cell_type": "markdown",
   "metadata": {},
   "source": [
    "Must extend Motran transmission up from 250 nm to 1151 nm"
   ]
  },
  {
   "cell_type": "code",
   "execution_count": null,
   "metadata": {},
   "outputs": [],
   "source": [
    "wl0=mtdata_sel[:,0]\n",
    "tr0=mtdata_sel[:,1]"
   ]
  },
  {
   "cell_type": "code",
   "execution_count": null,
   "metadata": {},
   "outputs": [],
   "source": [
    "wl=np.copy(WL)\n",
    "tr=np.ones(NBWL)\n",
    "\n",
    "wl[:len(wl0)]=wl0[:]\n",
    "tr[:len(tr0)]=tr0[:]\n"
   ]
  },
  {
   "cell_type": "code",
   "execution_count": null,
   "metadata": {},
   "outputs": [],
   "source": [
    "tel_mt=Telescope()"
   ]
  },
  {
   "cell_type": "code",
   "execution_count": null,
   "metadata": {},
   "outputs": [],
   "source": [
    "tel_mt.Set_Atmosphere(am,wl,tr)\n",
    "tel_mt.Plot_Throughputs()"
   ]
  },
  {
   "cell_type": "markdown",
   "metadata": {},
   "source": [
    "## Tune Ozone"
   ]
  },
  {
   "cell_type": "code",
   "execution_count": null,
   "metadata": {},
   "outputs": [],
   "source": [
    "all_o3=np.arange(250.,450.,10.)"
   ]
  },
  {
   "cell_type": "code",
   "execution_count": null,
   "metadata": {},
   "outputs": [],
   "source": [
    "NBRTFILES=len(all_o3)"
   ]
  },
  {
   "cell_type": "code",
   "execution_count": null,
   "metadata": {},
   "outputs": [],
   "source": [
    "NBSED_SEL=5000"
   ]
  },
  {
   "cell_type": "markdown",
   "metadata": {},
   "source": [
    "# Simulate LibRadTran"
   ]
  },
  {
   "cell_type": "code",
   "execution_count": null,
   "metadata": {},
   "outputs": [],
   "source": [
    "pressure = 782.5\n",
    "pwv=4.95\n",
    "aer=0\n",
    "ozone=300.\n",
    "wl0=500."
   ]
  },
  {
   "cell_type": "code",
   "execution_count": null,
   "metadata": {},
   "outputs": [],
   "source": [
    "all_rtdata=[]\n",
    "for ozone in all_o3:\n",
    "    path,thefile=rt.ProcessSimulationaer(am,pwv,ozone,wl0,aer)\n",
    "    #path,thefile=rt.ProcessSimulation(am,pwv,ozone)\n",
    "    data = np.loadtxt(os.path.join(path,thefile))\n",
    "    all_rtdata.append(data)"
   ]
  },
  {
   "cell_type": "code",
   "execution_count": null,
   "metadata": {},
   "outputs": [],
   "source": [
    "jet = cm = plt.get_cmap('jet')\n",
    "cNorm  = colors.Normalize(vmin=0, vmax=NBRTFILES)\n",
    "scalarMap = cmx.ScalarMappable(norm=cNorm, cmap=jet)"
   ]
  },
  {
   "cell_type": "code",
   "execution_count": null,
   "metadata": {},
   "outputs": [],
   "source": [
    "for idx in np.arange(NBRTFILES):    \n",
    "    colorVal = scalarMap.to_rgba(idx)\n",
    "    thelabel=\"ozone={:2.1f}\".format(all_o3[idx])\n",
    "    plt.plot(all_rtdata[idx][:,0],all_rtdata[idx][:,1],color=colorVal,label=thelabel)\n",
    "plt.grid(True)\n",
    "plt.title(\"LIBRADTRAN for z={:2.1f}\".format(am))\n",
    "plt.xlabel(\"$\\lambda$ (nm)\")\n",
    "plt.ylabel(\"atmospheric transparency\")\n",
    "plt.legend(loc='upper left')\n",
    "plt.xlim(0.,1200.)"
   ]
  },
  {
   "cell_type": "code",
   "execution_count": null,
   "metadata": {},
   "outputs": [],
   "source": [
    "all_o3"
   ]
  },
  {
   "cell_type": "markdown",
   "metadata": {},
   "source": [
    "# LibRadTran Telescope"
   ]
  },
  {
   "cell_type": "code",
   "execution_count": null,
   "metadata": {},
   "outputs": [],
   "source": [
    "idx_o3_sel=10"
   ]
  },
  {
   "cell_type": "code",
   "execution_count": null,
   "metadata": {},
   "outputs": [],
   "source": [
    "all_o3[idx_o3_sel]"
   ]
  },
  {
   "cell_type": "code",
   "execution_count": null,
   "metadata": {},
   "outputs": [],
   "source": [
    "rtdata_sel=all_rtdata[idx_o3_sel]"
   ]
  },
  {
   "cell_type": "code",
   "execution_count": null,
   "metadata": {},
   "outputs": [],
   "source": [
    "tel_rt=Telescope()"
   ]
  },
  {
   "cell_type": "code",
   "execution_count": null,
   "metadata": {},
   "outputs": [],
   "source": [
    "tel_rt.Set_Atmosphere(am,rtdata_sel[:,0],rtdata_sel[:,1])\n",
    "tel_rt.Plot_Throughputs()"
   ]
  },
  {
   "cell_type": "markdown",
   "metadata": {},
   "source": [
    "# LOOP on SED"
   ]
  },
  {
   "cell_type": "code",
   "execution_count": null,
   "metadata": {},
   "outputs": [],
   "source": [
    "filter_tag='r'"
   ]
  },
  {
   "cell_type": "code",
   "execution_count": null,
   "metadata": {},
   "outputs": [],
   "source": [
    "def ComputeDeltaMagAndErrorMag(filter_tag,tel_rt,tel_mt,sed_data):\n",
    "    \n",
    "    \n",
    "    filternum=all_filternum[filter_tag]-1\n",
    "    skybrightness=LSST_SkyBrightness[filternum]\n",
    "    FWHMgeom=LSST_GeomSeeing[filternum]\n",
    "    \n",
    "    \n",
    "    # book collections\n",
    "    all_pulls=np.zeros(NBSED_SEL)\n",
    "    all_magdelta=np.zeros(NBSED_SEL)\n",
    "    all_magerr=np.zeros(NBSED_SEL)\n",
    "\n",
    "    #print(\"NBSED_SEL={}\".format(NBSED_SEL))\n",
    "    \n",
    "    #loop on SED\n",
    "    for idx_sed in np.arange(NBSED_SEL):\n",
    "        # extract sed wl and flux\n",
    "        picklesname='pickles_uvk_{}'.format(idx_sed+1)\n",
    "        wl_sed=sed_data[0,sidx_spec:]/10.\n",
    "        flux_sed=sed_data[idx_sed+1,sidx_spec:]*10.\n",
    "        \n",
    "        # fill Telescope with that SED\n",
    "        tel_rt.Set_SED(wavel=wl_sed,newsed=flux_sed,name=picklesname)\n",
    "        tel_mt.Set_SED(wavel=wl_sed,newsed=flux_sed,name=picklesname)\n",
    "        \n",
    "        #compute Instrumental Magnitude\n",
    "        mag_adu_mt=tel_mt.CalcMyADUMagnitude_filter(filter_tag)\n",
    "        mag_adu_rt=tel_rt.CalcMyADUMagnitude_filter(filter_tag)\n",
    "        \n",
    "        # compute magnitude error and delta mag\n",
    "        mag_error=tel_rt.CalcMyABMagnitudesError_filter(filter_tag,skybrightness,FWHMgeom)\n",
    "        delta_mag= mag_adu_mt-mag_adu_rt\n",
    "    \n",
    "        #print('\\Delta M = {} \\delta m = {} '.format(delta_mag,mag_error))\n",
    "        \n",
    "        #fill collection\n",
    "        all_pulls[idx_sed]=delta_mag/mag_error\n",
    "        all_magdelta[idx_sed]=delta_mag\n",
    "        all_magerr[idx_sed]=mag_error\n",
    "        \n",
    "        \n",
    "        #plt.semilogy(wl_sed,flux_sed)\n",
    "\n",
    "    return all_magdelta,all_magerr,all_pulls\n",
    "        "
   ]
  },
  {
   "cell_type": "code",
   "execution_count": null,
   "metadata": {},
   "outputs": [],
   "source": [
    "def ComputeChi2(all_pulls):\n",
    "    all_pulls2=all_pulls**2\n",
    "    N=len(all_pulls)\n",
    "    chi2=all_pulls2.sum()/(float(N-1))\n",
    "    return chi2"
   ]
  },
  {
   "cell_type": "code",
   "execution_count": null,
   "metadata": {},
   "outputs": [],
   "source": [
    "all_magdelta,all_magerr,all_pulls=ComputeDeltaMagAndErrorMag(filter_tag,tel_rt,tel_mt,sed_data)"
   ]
  },
  {
   "cell_type": "code",
   "execution_count": null,
   "metadata": {},
   "outputs": [],
   "source": [
    "ComputeChi2(all_pulls)"
   ]
  },
  {
   "cell_type": "code",
   "execution_count": null,
   "metadata": {},
   "outputs": [],
   "source": [
    "plt.hist(all_pulls,bins=50,range=(-0.10,0.1));\n",
    "plt.grid()\n",
    "plt.xlabel(\"pull\")"
   ]
  },
  {
   "cell_type": "code",
   "execution_count": null,
   "metadata": {},
   "outputs": [],
   "source": [
    "plt.hist(all_magdelta,bins=50,range=(-0.1,0.1));\n",
    "plt.grid()\n",
    "plt.xlabel(\"$\\Delta M$\")"
   ]
  },
  {
   "cell_type": "code",
   "execution_count": null,
   "metadata": {},
   "outputs": [],
   "source": [
    "plt.hist(all_magerr,bins=50);\n",
    "plt.grid()\n",
    "plt.xlabel(\"$\\delta M$\")\n",
    "plt.yscale('log')"
   ]
  },
  {
   "cell_type": "markdown",
   "metadata": {},
   "source": [
    "# LOOP ON Ozone"
   ]
  },
  {
   "cell_type": "code",
   "execution_count": null,
   "metadata": {},
   "outputs": [],
   "source": [
    "jet = cm = plt.get_cmap('jet')\n",
    "cNorm  = colors.Normalize(vmin=all_o3.min(), vmax=all_o3.max())\n",
    "scalarMap = cmx.ScalarMappable(norm=cNorm, cmap=jet)\n",
    "all_colorvalues    = [scalarMap.to_rgba(o3) for o3 in all_o3]\n",
    "scalarMap.set_array(all_colorvalues)"
   ]
  },
  {
   "cell_type": "code",
   "execution_count": null,
   "metadata": {},
   "outputs": [],
   "source": [
    "all_chi2=[]\n",
    "\n",
    "plt.figure()\n",
    "for idx,ozone in np.ndenumerate(all_o3):\n",
    "    print(\"index_o3={} , o3={}\".format(idx[0],ozone))\n",
    "    \n",
    "    \n",
    "    # select atmosphere for libradtran\n",
    "    idx_o3_sel=idx[0]\n",
    "    rtdata_sel=all_rtdata[idx_o3_sel]\n",
    "    tel_rt.Set_Atmosphere(am,rtdata_sel[:,0],rtdata_sel[:,1])\n",
    "    all_magdelta,all_magerr,all_pulls=ComputeDeltaMagAndErrorMag(filter_tag,tel_rt,tel_mt,sed_data)\n",
    "    all_chi2.append(ComputeChi2(all_pulls))\n",
    "    \n",
    "    colorVal = scalarMap.to_rgba(ozone)\n",
    "    thelabel=\"ozone={:4.1f} mm\".format(ozone)\n",
    "    \n",
    "    plt.hist(all_pulls,bins=100,range=(-0.2,0.2),color=colorVal,alpha=0.8);\n",
    " \n",
    "\n",
    "cbar=plt.colorbar(scalarMap)\n",
    "cbar.set_label('ozone (DbU)', rotation=270)\n",
    "\n",
    "\n",
    "\n",
    "plt.grid(True)\n",
    "plt.xlabel(\"pull\",fontweight='bold',fontsize=20)\n",
    "title=\"Pulls Distribution pull$\\equiv(M_{mt}^R-M_{rt}^R)/\\sigma_M$\"\n",
    "title=title+\" for airmass z={}\".format(am)\n",
    "plt.title(title,fontweight='bold',fontsize=25)\n",
    "plt.tight_layout()\n",
    "#plt.legend(loc='best')"
   ]
  },
  {
   "cell_type": "markdown",
   "metadata": {},
   "source": [
    "# Estimation of o3 in libradtran"
   ]
  },
  {
   "cell_type": "code",
   "execution_count": null,
   "metadata": {},
   "outputs": [],
   "source": [
    "x=np.array(all_o3)\n",
    "y=np.array(all_chi2)\n",
    "z = np.polyfit(x, y, 4)\n",
    "parab= np.poly1d(z)\n",
    "newx=np.linspace(x[0],x[-1],50)\n",
    "newy=parab(newx)"
   ]
  },
  {
   "cell_type": "code",
   "execution_count": null,
   "metadata": {},
   "outputs": [],
   "source": [
    "title=\"$\\chi^2/(N-1)$ vs ozone for $\\Delta M^R=M_{mt}^R-M_{rt}^R$\"\n",
    "title=title+\" for airmass z={}\".format(am)\n",
    "plt.plot(all_o3,all_chi2,'bo',label='data')\n",
    "plt.plot(newx,newy,'r:',label='fit')\n",
    "plt.ylabel(\"$\\chi^2/(N-1)$\",fontweight='bold',fontsize=20)\n",
    "plt.xlabel(\"$O_3$ in Dobson Unit\",fontweight='bold',fontsize=20)\n",
    "plt.grid(True)\n",
    "plt.title(title,fontweight='bold',fontsize=25)\n",
    "plt.legend(loc=\"upper right\")"
   ]
  },
  {
   "cell_type": "code",
   "execution_count": null,
   "metadata": {},
   "outputs": [],
   "source": [
    "z"
   ]
  },
  {
   "cell_type": "code",
   "execution_count": null,
   "metadata": {},
   "outputs": [],
   "source": [
    "def FindOptimum(X,Y):\n",
    "    idx0=np.where(Y==Y.min())[0][0]\n",
    "    print(\"minimum is at X={}, Y={}\".format(X[idx0],Y[idx0]))\n",
    "    \n",
    "    close_idx=np.where(Y<=Y.min()+1)[0]\n",
    "    #for idx2 in close_idx:\n",
    "    #      print(\"neighbourg {} : is at X={}, Y={}\".format(idx2,X[idx2],Y[idx2]))\n",
    "            \n",
    "    print(\"X1 = {} - X2 = {}\".format(X[close_idx[0]], X[close_idx[-1]]))\n",
    "    sigma=0.5*( (X[idx0]-X[close_idx[0]])+(X[close_idx[-1]]-X[idx0]))\n",
    "    print(\"Sigma= {}\".format(sigma))\n",
    "    return X[idx0],sigma"
   ]
  },
  {
   "cell_type": "code",
   "execution_count": null,
   "metadata": {},
   "outputs": [],
   "source": [
    "o30,sigo3=FindOptimum(newx,newy)"
   ]
  },
  {
   "cell_type": "code",
   "execution_count": null,
   "metadata": {},
   "outputs": [],
   "source": [
    "#idx0=np.where(y==y.min())[0][0]\n",
    "#o30=x[idx0]"
   ]
  },
  {
   "cell_type": "markdown",
   "metadata": {},
   "source": [
    "# Find Magnitude difference"
   ]
  },
  {
   "cell_type": "code",
   "execution_count": null,
   "metadata": {},
   "outputs": [],
   "source": [
    "path,thefile=rt.ProcessSimulationaer(am,pwv,o30,wl0,aer)\n",
    "#path,thefile=rt.ProcessSimulation(am,pwv,ozone)\n",
    "rtdata0 = np.loadtxt(os.path.join(path,thefile))"
   ]
  },
  {
   "cell_type": "code",
   "execution_count": null,
   "metadata": {},
   "outputs": [],
   "source": [
    "tel_rt.Set_Atmosphere(am,rtdata0[:,0],rtdata0[:,1])"
   ]
  },
  {
   "cell_type": "markdown",
   "metadata": {},
   "source": []
  },
  {
   "cell_type": "code",
   "execution_count": null,
   "metadata": {},
   "outputs": [],
   "source": [
    "#tel_rt.Plot_Throughputs()"
   ]
  },
  {
   "cell_type": "code",
   "execution_count": null,
   "metadata": {},
   "outputs": [],
   "source": [
    "all_magdelta0,all_magerr0,all_pulls0=ComputeDeltaMagAndErrorMag(filter_tag,tel_rt,tel_mt,sed_data)"
   ]
  },
  {
   "cell_type": "code",
   "execution_count": null,
   "metadata": {},
   "outputs": [],
   "source": [
    "mag_mean=all_magdelta0.mean()\n",
    "mag_std=all_magdelta0.std()"
   ]
  },
  {
   "cell_type": "code",
   "execution_count": null,
   "metadata": {},
   "outputs": [],
   "source": [
    "plt.hist(all_magdelta0,bins=50,range=(-0.011,0.011),color=\"blue\");\n",
    "plt.grid()\n",
    "\n",
    "xlabel=\"$\\Delta M$ (= {:6.5f} +/- {:6.5f} mag)\".format(mag_mean,mag_std)\n",
    "plt.xlabel(xlabel,fontweight='bold',fontsize=25)\n",
    "title=\"Magnitude difference in {} filter for z={}, ozone={:4.1f} mm\".format(filter_tag,am,o30)\n",
    "plt.title(title,fontweight='bold',fontsize=25)"
   ]
  },
  {
   "cell_type": "code",
   "execution_count": null,
   "metadata": {},
   "outputs": [],
   "source": [
    "filter_tag='g'"
   ]
  },
  {
   "cell_type": "code",
   "execution_count": null,
   "metadata": {},
   "outputs": [],
   "source": [
    "all_magdelta0,all_magerr0,all_pulls0=ComputeDeltaMagAndErrorMag(filter_tag,tel_rt,tel_mt,sed_data)"
   ]
  },
  {
   "cell_type": "code",
   "execution_count": null,
   "metadata": {},
   "outputs": [],
   "source": [
    "mag_mean=all_magdelta0.mean()\n",
    "mag_std=all_magdelta0.std()"
   ]
  },
  {
   "cell_type": "code",
   "execution_count": null,
   "metadata": {},
   "outputs": [],
   "source": [
    "plt.hist(all_magdelta0,bins=50,range=(-0.011,0.011),color=\"blue\");\n",
    "plt.grid()\n",
    "\n",
    "xlabel=\"$\\Delta M$ (= {:6.5f} +/- {:6.5f} mag)\".format(mag_mean,mag_std)\n",
    "plt.xlabel(xlabel,fontweight='bold',fontsize=25)\n",
    "title=\"Magnitude difference in {} filter for z={}, ozone={:4.1f} mm\".format(filter_tag,am,o30)\n",
    "plt.title(title,fontweight='bold',fontsize=25)"
   ]
  },
  {
   "cell_type": "code",
   "execution_count": null,
   "metadata": {},
   "outputs": [],
   "source": [
    "filter_tag='u'"
   ]
  },
  {
   "cell_type": "code",
   "execution_count": null,
   "metadata": {},
   "outputs": [],
   "source": [
    "all_magdelta0,all_magerr0,all_pulls0=ComputeDeltaMagAndErrorMag(filter_tag,tel_rt,tel_mt,sed_data)"
   ]
  },
  {
   "cell_type": "code",
   "execution_count": null,
   "metadata": {},
   "outputs": [],
   "source": [
    "mag_mean=all_magdelta0.mean()\n",
    "mag_std=all_magdelta0.std()"
   ]
  },
  {
   "cell_type": "code",
   "execution_count": null,
   "metadata": {},
   "outputs": [],
   "source": [
    "plt.hist(all_magdelta0,bins=50,range=(-0.011,0.011),color=\"blue\");\n",
    "plt.grid()\n",
    "\n",
    "xlabel=\"$\\Delta M$ (= {:6.5f} +/- {:6.5f} mag)\".format(mag_mean,mag_std)\n",
    "plt.xlabel(xlabel,fontweight='bold',fontsize=25)\n",
    "title=\"Magnitude difference in {} filter for z={}, ozone={:4.1f} mm\".format(filter_tag,am,o30)\n",
    "plt.title(title,fontweight='bold',fontsize=25)"
   ]
  },
  {
   "cell_type": "code",
   "execution_count": null,
   "metadata": {},
   "outputs": [],
   "source": [
    "filter_tag='i'"
   ]
  },
  {
   "cell_type": "code",
   "execution_count": null,
   "metadata": {},
   "outputs": [],
   "source": [
    "all_magdelta0,all_magerr0,all_pulls0=ComputeDeltaMagAndErrorMag(filter_tag,tel_rt,tel_mt,sed_data)"
   ]
  },
  {
   "cell_type": "code",
   "execution_count": null,
   "metadata": {},
   "outputs": [],
   "source": [
    "mag_mean=all_magdelta0.mean()\n",
    "mag_std=all_magdelta0.std()"
   ]
  },
  {
   "cell_type": "code",
   "execution_count": null,
   "metadata": {},
   "outputs": [],
   "source": [
    "plt.hist(all_magdelta0,bins=50,range=(-0.011,0.011),color=\"blue\");\n",
    "plt.grid()\n",
    "\n",
    "xlabel=\"$\\Delta M$ (= {:6.5f} +/- {:6.5f} mag)\".format(mag_mean,mag_std)\n",
    "plt.xlabel(xlabel,fontweight='bold',fontsize=25)\n",
    "title=\"Magnitude difference in {} filter for z={}, ozone={:4.1f} mm\".format(filter_tag,am,o30)\n",
    "plt.title(title,fontweight='bold',fontsize=25)"
   ]
  },
  {
   "cell_type": "code",
   "execution_count": null,
   "metadata": {},
   "outputs": [],
   "source": []
  }
 ],
 "metadata": {
  "kernelspec": {
   "display_name": "Python 3",
   "language": "python",
   "name": "python3"
  },
  "language_info": {
   "codemirror_mode": {
    "name": "ipython",
    "version": 3
   },
   "file_extension": ".py",
   "mimetype": "text/x-python",
   "name": "python",
   "nbconvert_exporter": "python",
   "pygments_lexer": "ipython3",
   "version": "3.6.2"
  },
  "toc": {
   "nav_menu": {},
   "number_sections": true,
   "sideBar": true,
   "skip_h1_title": false,
   "toc_cell": false,
   "toc_position": {},
   "toc_section_display": "block",
   "toc_window_display": false
  }
 },
 "nbformat": 4,
 "nbformat_minor": 2
}
